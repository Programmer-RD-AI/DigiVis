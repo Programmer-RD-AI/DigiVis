{
 "cells": [
  {
   "cell_type": "code",
   "execution_count": 1,
   "id": "b4da8267-7df8-4893-8184-64a4807cb0e5",
   "metadata": {},
   "outputs": [],
   "source": [
    "import torch\n",
    "import torchvision\n",
    "import os\n",
    "import random\n",
    "import wandb\n",
    "from torchvision.models import *\n",
    "from torch import nn, optim\n",
    "import threading\n",
    "import torchinfo\n",
    "from torch.utils.data import DataLoader, Dataset\n",
    "from PIL import Image\n",
    "from tqdm import tqdm\n",
    "from typing import *\n",
    "from sklearn.model_selection import train_test_split\n",
    "from torchvision import transforms\n",
    "import pandas as pd\n",
    "import numpy as np\n",
    "import matplotlib.pyplot as plt\n",
    "from wandb import AlertLevel\n",
    "\n",
    "PROJECT_NAME = \"Digit Recognizer V2\"\n",
    "device = \"cuda\" if torch.cuda.is_available() else \"cpu\"\n",
    "torch.manual_seed(42)\n",
    "np.random.seed(42)\n",
    "torch.cuda.manual_seed(42)"
   ]
  },
  {
   "cell_type": "code",
   "execution_count": 61,
   "id": "f44fda9d-31e4-46d7-b109-136a4bc429c0",
   "metadata": {},
   "outputs": [],
   "source": []
  },
  {
   "cell_type": "code",
   "execution_count": 62,
   "id": "0cf0154f-617e-4f12-a149-fe354512e77e",
   "metadata": {},
   "outputs": [
    {
     "name": "stderr",
     "output_type": "stream",
     "text": [
      "100%|█████████████████████████████████████████████████████| 5/5 [00:00<00:00, 6613.54it/s]"
     ]
    },
    {
     "name": "stdout",
     "output_type": "stream",
     "text": [
      "0.1408573429371749\n"
     ]
    },
    {
     "name": "stderr",
     "output_type": "stream",
     "text": [
      "\n"
     ]
    },
    {
     "data": {
      "text/plain": [
       "(0.1408573429371749, 0.32349101255480556, torch.Size([3920]))"
      ]
     },
     "execution_count": 62,
     "metadata": {},
     "output_type": "execute_result"
    }
   ],
   "source": [
    "n=Normalizer(path=\"ML/data/train.csv\",label_col='label')\n",
    "n.mean(),n.std(),n.create_long_list().shape"
   ]
  },
  {
   "cell_type": "code",
   "execution_count": 51,
   "id": "cd071536-fcdc-4e4b-907a-eed45ca82d38",
   "metadata": {},
   "outputs": [],
   "source": [
    "data = pd.read_csv(\"ML/data/train.csv\").drop('label', axis=1)"
   ]
  },
  {
   "cell_type": "code",
   "execution_count": null,
   "id": "d0a06106-1c7c-46d0-9021-18fc6d3650ca",
   "metadata": {},
   "outputs": [],
   "source": [
    "tot = 0\n",
    "for i in tqdm(range(len(self.data))):\n",
    "    for x in range(len(self.data.iloc[i].tolist())):\n",
    "        tot += self.data.iloc[i].tolist()[x] / 255\n"
   ]
  },
  {
   "cell_type": "code",
   "execution_count": 29,
   "id": "498a0d14-e9f3-4646-ae1d-cb1406670178",
   "metadata": {},
   "outputs": [
    {
     "name": "stderr",
     "output_type": "stream",
     "text": [
      "100%|█████████████████████████████████████████████████████| 5/5 [00:00<00:00, 6260.16it/s]"
     ]
    },
    {
     "name": "stdout",
     "output_type": "stream",
     "text": [
      "0.1408573429371749\n"
     ]
    },
    {
     "name": "stderr",
     "output_type": "stream",
     "text": [
      "\n"
     ]
    },
    {
     "data": {
      "text/plain": [
       "0.1408573429371749"
      ]
     },
     "execution_count": 29,
     "metadata": {},
     "output_type": "execute_result"
    }
   ],
   "source": [
    "n.mean()"
   ]
  },
  {
   "cell_type": "code",
   "execution_count": null,
   "id": "e339badc-eb0d-4feb-933a-4832ce310d1e",
   "metadata": {},
   "outputs": [],
   "source": []
  }
 ],
 "metadata": {
  "kernelspec": {
   "display_name": "Python 3 (ipykernel)",
   "language": "python",
   "name": "python3"
  },
  "language_info": {
   "codemirror_mode": {
    "name": "ipython",
    "version": 3
   },
   "file_extension": ".py",
   "mimetype": "text/x-python",
   "name": "python",
   "nbconvert_exporter": "python",
   "pygments_lexer": "ipython3",
   "version": "3.8.8"
  }
 },
 "nbformat": 4,
 "nbformat_minor": 5
}
